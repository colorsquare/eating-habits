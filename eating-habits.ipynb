{
 "cells": [
  {
   "attachments": {},
   "cell_type": "markdown",
   "metadata": {},
   "source": [
    "### Eating Habits Analysis of KAIST Students (KAIST 학생들의 식습관 DB 분석)"
   ]
  },
  {
   "cell_type": "code",
   "execution_count": null,
   "metadata": {},
   "outputs": [],
   "source": [
    "import pandas as pd\n",
    "\n",
    "df = pd.read_excel(\"./database.xlsx\", sheet_name=[0, 1, 2])\n",
    "print(f\"df: {df}\")"
   ]
  },
  {
   "attachments": {},
   "cell_type": "markdown",
   "metadata": {},
   "source": [
    "#### Class Student and Class Meal"
   ]
  },
  {
   "cell_type": "code",
   "execution_count": 2,
   "metadata": {},
   "outputs": [],
   "source": [
    "class Student:\n",
    "    def __init__(self, 피험자번호, 성별, 연령, 체중유형, 거주유형, 전공영역, meals):\n",
    "        self.피험자번호 = 피험자번호\n",
    "        self.성별 = 성별\n",
    "        self.연령 = 연령\n",
    "        self.체중유형 = 체중유형\n",
    "        self.거주유형 = 거주유형\n",
    "        self.전공영역 = 전공영역\n",
    "        self.meals = meals\n",
    "\n",
    "    def __str__(self):\n",
    "        id = \"\\n\\n\" + f\"{self.피험자번호}\"\n",
    "        meals = [str(meal) for meal in self.meals]\n",
    "        return \"\\n  \".join([id] + meals)\n",
    "\n",
    "    def __repr__(self):\n",
    "        return str(self)\n",
    "\n",
    "\n",
    "class Meal:\n",
    "    def __init__(\n",
    "        self, 요일, 식사전스트레스지수, 식사유형, 식사위치, 음식유형, 가격, 식사만족도, 함께한사람, 이동거리, 식사시간, 이동수단\n",
    "    ):\n",
    "        self.요일 = 요일\n",
    "        self.식사전스트레스지수 = 식사전스트레스지수\n",
    "        self.식사유형 = 식사유형\n",
    "        self.식사위치 = 식사위치\n",
    "        self.음식유형 = 음식유형\n",
    "        self.가격 = 가격\n",
    "        self.식사만족도 = 식사만족도\n",
    "        self.함께한사람 = 함께한사람\n",
    "        self.이동거리 = 이동거리\n",
    "        self.식사시간 = 식사시간\n",
    "        self.이동수단 = 이동수단\n",
    "\n",
    "    def __str__(self):\n",
    "        return f\"{self.식사유형}, {self.식사위치}, {self.가격}, {self.함께한사람}, {self.이동거리}, {self.식사시간}\"\n"
   ]
  },
  {
   "attachments": {},
   "cell_type": "markdown",
   "metadata": {},
   "source": [
    "#### Load Data into Lists"
   ]
  },
  {
   "cell_type": "code",
   "execution_count": 6,
   "metadata": {},
   "outputs": [],
   "source": [
    "# In 2018, 'Residential Type' was not recorded. Therefore, for the\n",
    "# ease of processing, \"미기록\" is added for students in year 2018.\n",
    "\n",
    "students_2018 = students_2021 = students_2022 = []\n",
    "\n",
    "for key, sheet in df.items():\n",
    "    if key == 0:\n",
    "        students = students_2022\n",
    "    elif key == 1:\n",
    "        students = students_2021\n",
    "    elif key == 2:\n",
    "        students = students_2018\n",
    "    boundary = 5 if key == 2 else 6\n",
    "\n",
    "    for _, row in sheet.iterrows():\n",
    "        data = row.to_dict()\n",
    "        # The same student as the previous one\n",
    "        if students and students[-1].피험자번호 == data.get(\"피험자번호\"):\n",
    "            student = students[-1]\n",
    "        # New student\n",
    "        else:\n",
    "            characters = list(data.values())[:boundary]\n",
    "            if boundary == 5:\n",
    "                characters.insert(4, \"미기록\")\n",
    "            student = Student(*characters, [])\n",
    "            students.append(student)\n",
    "        meal = Meal(*list(data.values())[boundary:])\n",
    "        student.meals.append(meal)"
   ]
  },
  {
   "cell_type": "code",
   "execution_count": null,
   "metadata": {},
   "outputs": [],
   "source": []
  }
 ],
 "metadata": {
  "kernelspec": {
   "display_name": "writing2",
   "language": "python",
   "name": "python3"
  },
  "language_info": {
   "codemirror_mode": {
    "name": "ipython",
    "version": 3
   },
   "file_extension": ".py",
   "mimetype": "text/x-python",
   "name": "python",
   "nbconvert_exporter": "python",
   "pygments_lexer": "ipython3",
   "version": "3.9.15"
  },
  "orig_nbformat": 4,
  "vscode": {
   "interpreter": {
    "hash": "90a362d79831302402825aa684d13ce6390da991876d056a6a2c30e78062bc09"
   }
  }
 },
 "nbformat": 4,
 "nbformat_minor": 2
}
